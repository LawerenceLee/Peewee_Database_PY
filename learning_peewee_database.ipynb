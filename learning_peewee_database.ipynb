{
 "cells": [
  {
   "cell_type": "markdown",
   "metadata": {},
   "source": [
    "# Meet Peewee, Our ORM (Object Relational Mapping)\n",
    "* [Peewee's docs](http://peewee.readthedocs.org/en/latest/)\n",
    "* [Connecting to PostgreSQL](http://peewee.readthedocs.org/en/latest/peewee/database.html#using-postgresql)\n",
    "* [Connecting to MySQL](http://peewee.readthedocs.org/en/latest/peewee/database.html#using-mysql)\n",
    "* [Database Foundations](http://teamtreehouse.com/library/database-foundations)\n",
    "* [Charles Leifer's tutorial](http://charlesleifer.com/blog/dear-diary-an-encrypted-command-line-diary-with-python/)\n",
    "\n",
    "### Notes:\n",
    "* The Python class in the Peewee ORM that represents tables in SQL databases are called _Models_.\n",
    "* Each column or attribute in a table is an attribute of the model class.\n",
    "* Since ORMs usually sanitize the queries they run against your database, a common benefit of using an ORM is that you're protected against malicious queries.\n",
    "* The db extension is not required, its just a convention used in peewee to signify a file is a database.\n",
    "* Notice that our class name is singular and not plural. This is because classes in Peewee represent a single item in a database. This convention is also used heacily in Jango."
   ]
  },
  {
   "cell_type": "markdown",
   "metadata": {},
   "source": [
    "# Modeling \n",
    "\n",
    "* `model` - A code object that represents a database table\n",
    "* `SqliteDatabase` - The class from Peewee that lets us connect to an SQLite database\n",
    "* `Model` - The Peewee class that we extend to make a model\n",
    "* `CharField` - A Peewee field that holds onto characters. It's a varchar in SQL terms\n",
    "* `max_length` - The maximum number of characters in a CharField\n",
    "* `IntegerField` - A Peewee field that holds an integer\n",
    "* `default` - A default value for the field if one isn't provided\n",
    "* `unique` - Whether the value in the field can be repeated in the table\n",
    "* `.connect()` - A database method that connects to the database\n",
    "* `.create_tables()` - A database method to create the tables for the specified models.\n",
    "* `safe` - Whether or not to throw errors if the table(s) you're attempting to create already exist\n",
    "* `Meta` - This class tells the model class which database it belongs to. (this is NOT an actual Meta class, its just called one. BTW this convention is also seen in Jango)\n",
    "    - This class can be used to specify which fields should be indexed.\n",
    "    - How things should be ordered by default. \n",
    "    - etc.\n",
    "   \n",
    "Notes:\n",
    "* `{0.username}` - The zero represents what is returned from the function, and the username is one of two attributes (the other being points) that it has, therefore when you add in `.username` your only asking for username attribute."
   ]
  },
  {
   "cell_type": "code",
   "execution_count": null,
   "metadata": {
    "collapsed": true
   },
   "outputs": [],
   "source": [
    "#students.py\n",
    "from peewee import *\n",
    "\n",
    "db = SqliteDatabase('students.db')  \n",
    "\n",
    "\n",
    "class Student(Model):\n",
    "    username = CharField(max_length=255, unique=True)\n",
    "    points = IntegerField(default=0)\n",
    "    \n",
    "    class Meta:\n",
    "        database = db\n",
    "        \n",
    "if __name__ == '__main__':\n",
    "    db.connect()\n",
    "    db.create_tables([Student], safe=True)\n",
    "#     add_students()\n",
    "#     print('Our top student right now is: {0.username}.'.format(top_student()))"
   ]
  },
  {
   "cell_type": "markdown",
   "metadata": {},
   "source": [
    "## A note on Peewee's import style:\n",
    "Peewee's convention is to import everything with *. Why is this usually considered a bad practice?\n",
    "* Your local namespace gets flooded by a huge number of items.\n",
    "* Things you've defined locally, or already imported, can be overwritten by import.\n",
    "* Peewee's contents are no longer contained in the peewee namespace."
   ]
  },
  {
   "cell_type": "markdown",
   "metadata": {},
   "source": [
    "## Using Sqlite3 in Terminal\n",
    "* `.tables` - Shows tables in database\n",
    "* `select * from student;` - Will show the entire contents of student database\n",
    "\n",
    "```sql\n",
    "sh-3.2# sqlite3 students.db\n",
    "SQLite version 3.13.0 2016-05-18 10:57:30\n",
    "Enter \".help\" for usage hints.\n",
    "sqlite> .tables\n",
    "student\n",
    "sqlite> select * from student; \n",
    "sqlite> .exit```"
   ]
  },
  {
   "cell_type": "markdown",
   "metadata": {
    "collapsed": true
   },
   "source": [
    "## Code Challenge\n",
    "\n",
    "* Import everything from the peewee library.\n",
    "* Now we need to make a database connection. Make an SqliteDatabase() named \"challenges.db\". Assign it to the variable db.\n",
    "* Alright, now for the biggest part. Make a model named Challenge that has two fields, name and language. Both fields should be of the type CharField with a max_length of 100.\n",
    "* Now add a Meta class to Challenge and set the database attribute equal to db."
   ]
  },
  {
   "cell_type": "markdown",
   "metadata": {},
   "source": [
    "```python\n",
    "from peewee import *\n",
    "\n",
    "db = SqliteDatabase(\"challenges.db\")\n",
    "\n",
    "class Challenge(Model):\n",
    "    name = CharField(max_length=100)\n",
    "    language = CharField(max_length=100)\n",
    "    \n",
    "    class Meta:\n",
    "        database = db\n",
    "```"
   ]
  },
  {
   "cell_type": "markdown",
   "metadata": {},
   "source": [
    "# Queries are your Friend\n",
    "\n",
    "* `.create()` - creates a new instance all at once\n",
    "* `.select()` - finds records in a table\n",
    "* `.save()` - updates an existing row in the database\n",
    "* `.get()` - finds a single record in a table\n",
    "* `.delete_instance()` - deletes a single record from the table\n",
    "* `.order_by()` - specify how to sort the records\n",
    "* `__name__` - a special variable that refers to the current namespace.\n",
    "* `if __name__ == '__main__'` - a common pattern for making code only run when the script is run and not when it's imported.\n",
    "* `db.close()` - not a method we used, but often a good idea. Explicitly closes the connection to the database.\n",
    "* `.update()` - also something we didn't use. Offers a way to update a record without `.get()` and `.save().` Example: `Student.update(points=student['points']).where(Student.username == student['username']).execute()`\n",
    "\n",
    "[Peewee Query Methods](http://peewee.readthedocs.org/en/latest/peewee/querying.html)\n",
    "\n",
    "Notes:\n",
    "* The try block below allows for information about pupils already in the database to be updated while handling the `IntegrityError` caused by the `unique=True` argument in the username `CharField`.\n",
    "* `Student.select()` - Grabs all data on each student\n",
    "* `.order_by(Student.points.desc())` - Orders students by the amount of points they have, starting with the highest.\n",
    "* `.get()` - Retrieves only the first record.\n"
   ]
  },
  {
   "cell_type": "code",
   "execution_count": null,
   "metadata": {
    "collapsed": true
   },
   "outputs": [],
   "source": [
    "# students.py continued\n",
    "\n",
    "students = [\n",
    "    {'username': 'charlieTucker',\n",
    "    'points': 934},\n",
    "    {'username': 'Mwallace',\n",
    "    'points': 30234},\n",
    "    {'username': 'FantasticSam',\n",
    "    'points': 26323},\n",
    "    {'username': 'JuliePeaches',\n",
    "    'points': 64890}\n",
    "]\n",
    "\n",
    "def add_students():\n",
    "    for pupil in students:\n",
    "        try:\n",
    "            Student.create(username=pupil['username'],\n",
    "                      points=pupil['points'])\n",
    "        except IntegrityError:\n",
    "            pupil_record = Student.get(username=pupil['username'])\n",
    "            pupil_record.points = pupil['points']\n",
    "            pupil_record.save()\n",
    "            \n",
    "def top_student():\n",
    "    student = Student.select().order_by(Student.points.desc()).get()\n",
    "    return student"
   ]
  },
  {
   "cell_type": "code",
   "execution_count": null,
   "metadata": {
    "collapsed": true
   },
   "outputs": [],
   "source": [
    "! python students.py"
   ]
  },
  {
   "cell_type": "markdown",
   "metadata": {},
   "source": [
    "***\n",
    "If we simply change the values in the students list:\n",
    "```python\n",
    "students = [\n",
    "    {'username': 'charlieTucker',\n",
    "    'points': 934},\n",
    "    {'username': 'Mwallace',\n",
    "    'points': 30234},\n",
    "    {'username': 'FantasticSam',\n",
    "    'points': 26323},\n",
    "    {'username': 'JuliePeaches',\n",
    "    'points': 648934333632290}\n",
    "]```\n",
    "And then rerun the script, the top student changes:\n",
    "\n",
    "`! python students.py\n",
    "Our top student right now is: JuliePeaches.`"
   ]
  },
  {
   "cell_type": "markdown",
   "metadata": {},
   "source": [
    "## What's CRUD\n",
    "* Create\n",
    "* Read\n",
    "* Update\n",
    "* Delete"
   ]
  },
  {
   "cell_type": "markdown",
   "metadata": {},
   "source": [
    "## Code Challenge\n",
    "* Import the Challenge class from models.py.\n",
    "* Now, create a variable named all_challenges. It should select all of the available challenges from the database.\n",
    "* Next, create a new Challenge. The language should be \"Ruby\", the name should be \"Booleans\".\n",
    "* Finally, make a variable named sorted_challenges that is all of the Challenge records, ordered by the steps attribute on the model. The order should be ascending, which is the default direction."
   ]
  },
  {
   "cell_type": "markdown",
   "metadata": {},
   "source": [
    "```python\n",
    "from models import Challenge\n",
    "\n",
    "all_challenges = Challenge.select()\n",
    "Challenge.create(name='Booleans',\n",
    "                      language='Ruby')\n",
    "\n",
    "sorted_challenges = all_challenges.order_by(Challenge.steps)```"
   ]
  },
  {
   "cell_type": "markdown",
   "metadata": {
    "collapsed": true
   },
   "source": [
    "# Making a Diary w/ a Sqlite3 Database\n",
    "* `TextField()` - a field that holds a blob of text of any size\n",
    "* `DateTimeField()` - a field for holding a date and a time\n",
    "\n",
    "`/usr/bin/env` what?\n",
    "\n",
    "If you're not sure what to put after `/usr/bin/env`, test it out in your terminal program.\n",
    "\n",
    "Type in `/usr/bin/env python` and you should get a Python shell like normal. If it says 2.7 or something other than the 3.4 you should be expecting, try `/usr/bin/env python3`. Whichever of these gets you the correct Python shell is the one you should put at the top of your file.\n",
    "\n",
    "Notes:\n",
    "* Notice that the `datetime.datetime.now` is missing the parenthesis that typically follows after `.now`. This is because had we added the parenthesis, `datetime.datetime.now` would not have been seen as a function call, and instead would have recorded the timestamp when the script was initally run, rather than when the record or diary entry was created."
   ]
  },
  {
   "cell_type": "markdown",
   "metadata": {},
   "source": [
    "### Using Switches\n",
    "\n",
    "* `OrderedDict` - a handy container from the collections module that works like a dict but maintains the order that keys are added\n",
    "* `.__doc__` - a magic variable that holds the docstring of a function, method, or class\n",
    "\n",
    "### Working with Python's Sys Library\n",
    "* `sys` - a Python module that contains functionality for interacting with the system\n",
    "* `sys.stdin` - a Python object that represents the standard input stream. In most cases, this will be the keyboard\n",
    "\n",
    "### View and Seach Queries\n",
    "* `.where()` - method that lets us filter our .select() results\n",
    "* `.contains()` - method that specifies the input should be inside the specified field\n",
    "\n",
    "### Working with OS Library\n",
    "* `os` - Python module that lets us integrate with the underlying OS\n",
    "* `os.name` - attribute that holds a name for the style of OS\n",
    "* `os.system()` - method to allow Python code to call OS-level programs"
   ]
  },
  {
   "cell_type": "code",
   "execution_count": 8,
   "metadata": {},
   "outputs": [
    {
     "name": "stdout",
     "output_type": "stream",
     "text": [
      "Enter q to QUIT\n",
      "a) Add an Entry.\n",
      "v) View Previous Entries.\n",
      "Action: q\n"
     ]
    }
   ],
   "source": [
    "#!/Users/lawerencelee/anaconda/bin/python\n",
    "from collections import OrderedDict\n",
    "import datetime\n",
    "import sys\n",
    "import os\n",
    "\n",
    "from peewee import *\n",
    "\n",
    "\n",
    "db = SqliteDatabase('diary.db')\n",
    "\n",
    "\n",
    "class Entry(Model):\n",
    "    content = TextField()\n",
    "    timestamp = DateTimeField(default=datetime.datetime.now)\n",
    "    \n",
    "    class Meta:\n",
    "        database = db\n",
    "        \n",
    "def initalize():\n",
    "    db.connect()\n",
    "    db.create_tables([Entry], safe=True)\n",
    "\n",
    "def __clear():\n",
    "    \"\"\"\n",
    "    Clears the terminal screen.\n",
    "    \"\"\"\n",
    "    os.system(\"cls\" if os.name == \"nt\" else \"clear\")\n",
    "    \n",
    "def menu_loop():\n",
    "    '''Show The Menu.'''\n",
    "    choice = None\n",
    "    \n",
    "    while choice != 'q':\n",
    "        __clear()\n",
    "        print('Enter q to QUIT')\n",
    "        for key, value in menu.items():\n",
    "            print('{}) {}'.format(key, value.__doc__))\n",
    "        choice = input('\\nAction: ').lower().strip()\n",
    "        \n",
    "        if choice in menu:\n",
    "            menu[choice]()\n",
    "            \n",
    "def add_entry():\n",
    "    \"\"\"Add an Entry.\"\"\"\n",
    "    __clear()\n",
    "    print('Enter your entry. Press ctrl+d when finished.')\n",
    "    data = sys.stdin.read().strip()\n",
    "    \n",
    "    if data:\n",
    "        if input('\\nSave entry? [Y/n]: ').lower() != 'n':\n",
    "            Entry.create(content=data)\n",
    "            input(\"\\nSaved Successfully, press ENTER to Continue. \")\n",
    "\n",
    "def view_entries(search_query=None):\n",
    "    \"\"\"View Previous Entries.\"\"\"\n",
    "    entries = Entry.select().order_by(Entry.timestamp.desc())\n",
    "    if search_query:\n",
    "        entries = entries.where(Entry.content.contains(search_query))\n",
    "    \n",
    "    for entry in entries:\n",
    "        __clear()\n",
    "        timestamp = entry.timestamp.strftime('%A %B %d, %Y %I:%M%p')\n",
    "        print(timestamp)\n",
    "        print('='*len(timestamp))\n",
    "        print(entry.content, '\\n\\n')\n",
    "        print('='*len(timestamp))\n",
    "        print('n) Next Entry')\n",
    "        print('d) Delete Entry')\n",
    "        print('q) Main Menu')\n",
    "        \n",
    "        next_action = input('\\nAction: [N/d/q] ').lower().strip()\n",
    "        if next_action == 'q':\n",
    "            break\n",
    "        elif next_action == 'd':\n",
    "            delete_entries(entry)\n",
    "            \n",
    "def search_entries():\n",
    "    '''Search Via Keyword'''\n",
    "    __clear()\n",
    "    view_entries(input('Search query: '))\n",
    "        \n",
    "def delete_entries(entry):\n",
    "    \"\"\"Delete Entries\"\"\"\n",
    "    if input('\\nAre you sure? [y/N] ').lower() == 'y':\n",
    "        entry.delete_instance()\n",
    "        __clear()\n",
    "        input('Entry Deleted, press Enter to Continue. ')\n",
    "\n",
    "menu = OrderedDict([\n",
    "    ('a', add_entry),\n",
    "    ('v', view_entries),\n",
    "    ('s', search_entries)\n",
    "])\n",
    "\n",
    "\n",
    "if __name__ == '__main__':\n",
    "    initalize()\n",
    "    menu_loop()"
   ]
  },
  {
   "cell_type": "markdown",
   "metadata": {},
   "source": [
    "#### After running the script, `diary.db` was created."
   ]
  },
  {
   "cell_type": "code",
   "execution_count": null,
   "metadata": {
    "collapsed": true
   },
   "outputs": [],
   "source": [
    "! ls"
   ]
  },
  {
   "cell_type": "markdown",
   "metadata": {},
   "source": [
    "#### Using the shebang  (#!/Users/lawerencelee/anaconda/bin/python) allowed us to do the following: "
   ]
  },
  {
   "cell_type": "code",
   "execution_count": null,
   "metadata": {
    "collapsed": true
   },
   "outputs": [],
   "source": [
    "! ./diary.py"
   ]
  },
  {
   "cell_type": "markdown",
   "metadata": {},
   "source": [
    "### Code Challenge\n",
    "* Create a variable named db that is an SqliteDatabase with a filename of challenges.db.\n",
    "* Now add db as the database attribute in the Meta class for Challenge.\n",
    "* Finally, create a function named initialize. Your initialize() function should connect to the database and then create the Challenge table. Make sure it creates the table safely."
   ]
  },
  {
   "cell_type": "code",
   "execution_count": null,
   "metadata": {
    "collapsed": true
   },
   "outputs": [],
   "source": [
    "from peewee import *\n",
    "\n",
    "db = SqliteDatabase('challenges.db')\n",
    "\n",
    "class Challenge(Model):\n",
    "    name = CharField(max_length=100)\n",
    "    language = CharField(max_length=100)\n",
    "    steps = IntegerField(default=1)\n",
    "    \n",
    "    class Meta:\n",
    "        database = db\n",
    "        \n",
    "def initialize():\n",
    "    db.connect()\n",
    "    db.create_tables([Challenge], safe=True)"
   ]
  },
  {
   "cell_type": "markdown",
   "metadata": {},
   "source": [
    "### Code Challenge\n",
    "* Import OrderedDict from the collections module.\n",
    "* Now create an OrderedDict named menu that has the menu items exactly as listed in the comment. Both keys and values will be strings."
   ]
  },
  {
   "cell_type": "code",
   "execution_count": 7,
   "metadata": {
    "collapsed": true
   },
   "outputs": [],
   "source": [
    "from collections import OrderedDict\n",
    "\n",
    "menu = OrderedDict([\n",
    "('n', 'new challenge'),\n",
    "('s', 'new step'),\n",
    "('d', 'delete a challenge'),\n",
    "('e', 'edit a challenge')\n",
    "])"
   ]
  },
  {
   "cell_type": "markdown",
   "metadata": {},
   "source": [
    "### Code Challenge\n",
    "* Create a function named create_challenge() that takes name, language, and steps arguments. Steps should be optional, so give it a default value of 1. Create a Challenge from the arguments. create_challenge should not return anything.\n",
    "\n",
    "```python\n",
    "from models import Challenge\n",
    "\n",
    "def create_challenge(name, language, steps=1):\n",
    "    Challenge.create(name=name, language=language, steps=steps)\n",
    "```"
   ]
  },
  {
   "cell_type": "markdown",
   "metadata": {},
   "source": [
    "# Code Challenge\n",
    "* Create a function named search_challenges that takes two arguments, name and language. Return all Challenges where the name field contains name argument and the language field is equal to the language argument. Use == for equality. You don't need boolean and or binary & for this, just put both conditions in your where().\n",
    "\n",
    "```python \n",
    "from models import Challenge\n",
    "\n",
    "def create_challenge(name, language, steps=1):\n",
    "    Challenge.create(name=name,\n",
    "                     language=language,\n",
    "                     steps=steps)\n",
    "    \n",
    "def search_challenges(name, language):\n",
    "    challenges = Challenge.select()\n",
    "    return challenges.where(Challenge.name.contains(name) and Challenge.language == language)\n",
    "```"
   ]
  },
  {
   "cell_type": "markdown",
   "metadata": {},
   "source": [
    "### Code Challenge\n",
    "* Create a function named delete_challenge that takes a Challenge as an argument. Delete the specified Challenge. Your function shouldn't return anything."
   ]
  },
  {
   "cell_type": "code",
   "execution_count": null,
   "metadata": {
    "collapsed": true
   },
   "outputs": [],
   "source": [
    "from models import Challenge\n",
    "\n",
    "\n",
    "def create_challenge(name, language, steps=1):\n",
    "    Challenge.create(name=name,\n",
    "                     language=language,\n",
    "                     steps=steps)\n",
    "\n",
    "\n",
    "def search_challenges(name, language):\n",
    "    return Challenge.select().where(\n",
    "        Challenge.name.contains(name),\n",
    "        Challenge.language==language\n",
    "    )\n",
    "\n",
    "def delete_challenge(challenge):\n",
    "    challenge.delete_instance()"
   ]
  }
 ],
 "metadata": {
  "kernelspec": {
   "display_name": "Python 3",
   "language": "python",
   "name": "python3"
  },
  "language_info": {
   "codemirror_mode": {
    "name": "ipython",
    "version": 3
   },
   "file_extension": ".py",
   "mimetype": "text/x-python",
   "name": "python",
   "nbconvert_exporter": "python",
   "pygments_lexer": "ipython3",
   "version": "3.6.1"
  }
 },
 "nbformat": 4,
 "nbformat_minor": 2
}
